{
 "cells": [
  {
   "cell_type": "markdown",
   "id": "411e5ac7",
   "metadata": {},
   "source": [
    "# MLOps Phase 2 - Model Training"
   ]
  },
  {
   "cell_type": "code",
   "execution_count": 37,
   "id": "7a590083",
   "metadata": {},
   "outputs": [],
   "source": [
    "import mlflow\n",
    "import random\n",
    "mlflow.set_tracking_uri(uri=\"INSERT_URL\")"
   ]
  },
  {
   "cell_type": "code",
   "execution_count": 38,
   "id": "2c1033af",
   "metadata": {},
   "outputs": [],
   "source": [
    "from mlflow.models import infer_signature\n",
    "import pandas as pd\n",
    "from sklearn import datasets\n",
    "from sklearn.model_selection import train_test_split\n",
    "from sklearn.linear_model import LogisticRegression\n",
    "from sklearn.metrics import accuracy_score, precision_score, recall_score, f1_score"
   ]
  },
  {
   "cell_type": "code",
   "execution_count": 56,
   "id": "e87acffe",
   "metadata": {},
   "outputs": [],
   "source": [
    "parquet_file_path = 'chess_data_2013/processed_chess_data_2013.parquet'\n",
    "df = pd.read_parquet(parquet_file_path)\n",
    "df = df.fillna(0)"
   ]
  },
  {
   "cell_type": "code",
   "execution_count": 57,
   "id": "1794f31a",
   "metadata": {},
   "outputs": [],
   "source": [
    "# Due to Computational Limitations, sampling 10,000 samples from the dataset.\n",
    "random.seed(10)\n",
    "sampled_df = df.sample(n=100000, replace=False)"
   ]
  },
  {
   "cell_type": "code",
   "execution_count": 62,
   "id": "fc050125",
   "metadata": {},
   "outputs": [],
   "source": [
    "X = sampled_df.drop(columns=['time_control','result'])\n",
    "y = sampled_df['result']"
   ]
  },
  {
   "cell_type": "code",
   "execution_count": 63,
   "id": "a7d2dfb4",
   "metadata": {},
   "outputs": [
    {
     "data": {
      "text/html": [
       "<div>\n",
       "<style scoped>\n",
       "    .dataframe tbody tr th:only-of-type {\n",
       "        vertical-align: middle;\n",
       "    }\n",
       "\n",
       "    .dataframe tbody tr th {\n",
       "        vertical-align: top;\n",
       "    }\n",
       "\n",
       "    .dataframe thead th {\n",
       "        text-align: right;\n",
       "    }\n",
       "</style>\n",
       "<table border=\"1\" class=\"dataframe\">\n",
       "  <thead>\n",
       "    <tr style=\"text-align: right;\">\n",
       "      <th></th>\n",
       "      <th>black_rating</th>\n",
       "      <th>white_rating</th>\n",
       "    </tr>\n",
       "  </thead>\n",
       "  <tbody>\n",
       "    <tr>\n",
       "      <th>1753492</th>\n",
       "      <td>1415.0</td>\n",
       "      <td>1689.0</td>\n",
       "    </tr>\n",
       "    <tr>\n",
       "      <th>1360200</th>\n",
       "      <td>1523.0</td>\n",
       "      <td>1664.0</td>\n",
       "    </tr>\n",
       "    <tr>\n",
       "      <th>62262</th>\n",
       "      <td>2008.0</td>\n",
       "      <td>1823.0</td>\n",
       "    </tr>\n",
       "    <tr>\n",
       "      <th>454945</th>\n",
       "      <td>1398.0</td>\n",
       "      <td>1659.0</td>\n",
       "    </tr>\n",
       "    <tr>\n",
       "      <th>874989</th>\n",
       "      <td>1590.0</td>\n",
       "      <td>1570.0</td>\n",
       "    </tr>\n",
       "    <tr>\n",
       "      <th>...</th>\n",
       "      <td>...</td>\n",
       "      <td>...</td>\n",
       "    </tr>\n",
       "    <tr>\n",
       "      <th>981196</th>\n",
       "      <td>1904.0</td>\n",
       "      <td>1846.0</td>\n",
       "    </tr>\n",
       "    <tr>\n",
       "      <th>1503351</th>\n",
       "      <td>1500.0</td>\n",
       "      <td>1758.0</td>\n",
       "    </tr>\n",
       "    <tr>\n",
       "      <th>1942370</th>\n",
       "      <td>1400.0</td>\n",
       "      <td>1281.0</td>\n",
       "    </tr>\n",
       "    <tr>\n",
       "      <th>1430221</th>\n",
       "      <td>1625.0</td>\n",
       "      <td>1056.0</td>\n",
       "    </tr>\n",
       "    <tr>\n",
       "      <th>2035269</th>\n",
       "      <td>1537.0</td>\n",
       "      <td>1498.0</td>\n",
       "    </tr>\n",
       "  </tbody>\n",
       "</table>\n",
       "<p>100000 rows × 2 columns</p>\n",
       "</div>"
      ],
      "text/plain": [
       "         black_rating  white_rating\n",
       "1753492        1415.0        1689.0\n",
       "1360200        1523.0        1664.0\n",
       "62262          2008.0        1823.0\n",
       "454945         1398.0        1659.0\n",
       "874989         1590.0        1570.0\n",
       "...               ...           ...\n",
       "981196         1904.0        1846.0\n",
       "1503351        1500.0        1758.0\n",
       "1942370        1400.0        1281.0\n",
       "1430221        1625.0        1056.0\n",
       "2035269        1537.0        1498.0\n",
       "\n",
       "[100000 rows x 2 columns]"
      ]
     },
     "execution_count": 63,
     "metadata": {},
     "output_type": "execute_result"
    }
   ],
   "source": [
    "X"
   ]
  },
  {
   "cell_type": "code",
   "execution_count": 64,
   "id": "555b09cd",
   "metadata": {},
   "outputs": [],
   "source": [
    "X_train, X_test, y_train, y_test = train_test_split(X, y, test_size=0.2, random_state=42)\n",
    "\n",
    "params = {\n",
    "    \"solver\": \"lbfgs\",\n",
    "    \"max_iter\": 1000,\n",
    "    \"multi_class\": \"auto\",\n",
    "    \"random_state\": 42,\n",
    "}\n",
    "\n",
    "lr = LogisticRegression(**params)\n",
    "lr.fit(X_train, y_train)\n",
    "\n",
    "y_pred = lr.predict(X_test)\n",
    "\n",
    "accuracy = accuracy_score(y_test, y_pred)"
   ]
  },
  {
   "cell_type": "code",
   "execution_count": 71,
   "id": "061b122a",
   "metadata": {},
   "outputs": [
    {
     "name": "stderr",
     "output_type": "stream",
     "text": [
      "C:\\Users\\91967\\anaconda3\\Lib\\site-packages\\_distutils_hack\\__init__.py:33: UserWarning: Setuptools is replacing distutils.\n",
      "  warnings.warn(\"Setuptools is replacing distutils.\")\n",
      "Successfully registered model 'tracking-quickstart'.\n",
      "2024/04/14 12:37:08 INFO mlflow.store.model_registry.abstract_store: Waiting up to 300 seconds for model version to finish creation. Model name: tracking-quickstart, version 1\n",
      "Created version '1' of model 'tracking-quickstart'.\n"
     ]
    }
   ],
   "source": [
    "mlflow.set_tracking_uri(uri=\"INSERT_URL\")\n",
    "\n",
    "mlflow.set_experiment(\"INSERT_EXPERIMENT_NAME\")\n",
    "\n",
    "with mlflow.start_run():\n",
    "    # Log the hyperparameters\n",
    "    mlflow.log_params(params)\n",
    "\n",
    "    # Log the loss metric\n",
    "    mlflow.log_metric(\"accuracy\", accuracy)\n",
    "    \n",
    "    # Set a tag that we can use to remind ourselves what this run was for\n",
    "    mlflow.set_tag(\"Phase 2 Model\", \"Chess Resuld Prediction\")\n",
    "\n",
    "    # Infer the model signature\n",
    "    signature = infer_signature(X_train, lr.predict(X_train))\n",
    "\n",
    "    # Log the model\n",
    "    model_info = mlflow.sklearn.log_model(\n",
    "        sk_model=lr,\n",
    "        artifact_path=\"phase2_model\",\n",
    "        signature=signature,\n",
    "        input_example=X_train,\n",
    "        registered_model_name=\"tracking-quickstart\",\n",
    "    )\n"
   ]
  },
  {
   "cell_type": "code",
   "execution_count": null,
   "id": "2bd23653",
   "metadata": {},
   "outputs": [],
   "source": []
  }
 ],
 "metadata": {
  "kernelspec": {
   "display_name": "Python 3 (ipykernel)",
   "language": "python",
   "name": "python3"
  },
  "language_info": {
   "codemirror_mode": {
    "name": "ipython",
    "version": 3
   },
   "file_extension": ".py",
   "mimetype": "text/x-python",
   "name": "python",
   "nbconvert_exporter": "python",
   "pygments_lexer": "ipython3",
   "version": "3.11.7"
  }
 },
 "nbformat": 4,
 "nbformat_minor": 5
}
