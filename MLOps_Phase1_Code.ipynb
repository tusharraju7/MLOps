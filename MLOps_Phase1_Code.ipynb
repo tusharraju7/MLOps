{
 "cells": [
  {
   "cell_type": "markdown",
   "metadata": {
    "id": "XeJgCi3uBlUP"
   },
   "source": [
    "# MLOps Phase 1 - Data Collection"
   ]
  },
  {
   "cell_type": "code",
   "execution_count": null,
   "metadata": {
    "id": "qiH_XWtRzopA"
   },
   "outputs": [],
   "source": [
    "# Importing Libraries\n",
    "from pyspark.sql import SparkSession\n",
    "from pyspark.sql.types import StructType, StructField, IntegerType, StringType\n",
    "import re\n",
    "import os"
   ]
  },
  {
   "cell_type": "markdown",
   "metadata": {
    "id": "H7MfSecuBxlE"
   },
   "source": [
    "Visualizing a sample pgn to see the dataset."
   ]
  },
  {
   "cell_type": "code",
   "execution_count": null,
   "metadata": {
    "colab": {
     "base_uri": "https://localhost:8080/"
    },
    "id": "LdK0KE1Io5xu",
    "outputId": "2e24ee38-987f-4153-a5e4-eff09607e827"
   },
   "outputs": [
    {
     "name": "stdout",
     "output_type": "stream",
     "text": [
      "[Event \"Rated Classical game\"]\n",
      "[Site \"https://lichess.org/j1dkb5dw\"]\n",
      "[White \"BFG9k\"]\n",
      "[Black \"mamalak\"]\n",
      "[Result \"1-0\"]\n",
      "[UTCDate \"2012.12.31\"]\n",
      "[UTCTime \"23:01:03\"]\n",
      "[WhiteElo \"1639\"]\n",
      "[BlackElo \"1403\"]\n",
      "[WhiteRatingDiff \"+5\"]\n",
      "[BlackRatingDiff \"-8\"]\n",
      "[ECO \"C00\"]\n",
      "[Opening \"French Defense: Normal Variation\"]\n",
      "[TimeControl \"600+8\"]\n",
      "[Termination \"Normal\"]\n",
      "\n",
      "1. e4 e6 2. d4 b6 3. a3 Bb7 4. Nc3 Nh6 5. Bxh6 gxh6 6. Be2 Qg5 7. Bg4 h5 8. Nf3 Qg6 9. Nh4 Qg5 10. Bxh5 Qxh4 11. Qf3 Kd8 12. Qxf7 Nc6 13. Qe8# 1-0\n",
      "\n",
      "[Event \"Rated Classical game\"]\n",
      "[Site \"https://lichess.org/a9tcp02g\"]\n",
      "[White \"Desmond_Wilson\"]\n",
      "[Black \"savinka59\"]\n",
      "[Result \"1-0\"]\n",
      "[UTCDate \"2012.12.31\"]\n",
      "[UTCTime \"23:04:12\"]\n",
      "[WhiteElo \"1654\"]\n",
      "[BlackElo \"1919\"]\n",
      "[WhiteRatingDiff \"+19\"]\n",
      "[BlackRatingDiff \"-22\"]\n",
      "[ECO \"D04\"]\n",
      "[Opening \"Queen's Pawn Game: Colle System, Anti-Colle\"]\n",
      "[TimeControl \"480+2\"]\n",
      "[Termination \"Normal\"]\n",
      "\n",
      "1. d4 d5 2. Nf3 Nf6 3. e3 Bf5 4. Nh4 Bg6 5. Nxg6 hxg6 6. Nd2 e6 7. Bd3 Bd6 8. e4 dxe4 9. Nxe4 Rxh2 10. Ke2 Rxh1 11. Qxh1 Nc6 12. Bg5 Ke7 13. Qh7 Nxd4+ 14. Kd2 Qe8 15. Qxg7 Qh8 16. Bxf6+ Kd7 17. Qxh8 Rxh8 18. Bxh8 1-0\n",
      "\n",
      "[Event \"Rated Classical game\"]\n",
      "[Site \"https://lichess.org/szom2tog\"]\n",
      "[White \"Kozakmamay007\"]\n",
      "[Black \"VanillaShamanilla\"]\n",
      "[Result \"1-0\"]\n",
      "[UTCDate \"2012.12.31\"]\n",
      "[UTCTime \"23:03:15\"]\n",
      "[WhiteElo \"1643\"]\n",
      "[BlackElo \"1747\"]\n",
      "[WhiteRatingDiff \"+13\"]\n",
      "[BlackRatingDiff \"-94\"]\n",
      "[ECO \"C50\"]\n",
      "[Opening \"Four Knights Game: Italian Variation\"]\n",
      "[TimeControl \"420+17\"]\n",
      "[Termination \"Normal\"]\n",
      "\n",
      "1. e4 e5 2. Nf3 Nc6 3. Bc4 Nf6 4. Nc3 Bc5 5. a3 Bxf2+ 6. Kxf2 Nd4 7. d3 Ng4+ 8. Kf1 Qf6 9. h3 d5 10. Nxd5 Qe6 11. Nxc7+ 1-0\n",
      "\n",
      "[Event \"Rated Bullet game\"]\n",
      "[Site \"https://lichess.org/rklpc7mk\"]\n",
      "[White \"Naitero_Nagasaki\"]\n",
      "[Black \"800\"]\n",
      "[Result \"0-1\"]\n",
      "[UTCDate \"2012.12.31\"]\n",
      "[UTCTime \"23:04:57\"]\n",
      "[WhiteElo \"1824\"]\n",
      "[BlackElo \"1973\"]\n",
      "[WhiteRatingDiff \"-6\"]\n",
      "[BlackRatingDiff \"+8\"]\n",
      "[ECO \"B12\"]\n",
      "[Opening \"Caro-Kann Defense: Goldman Variation\"]\n",
      "[TimeControl \"60+1\"]\n",
      "[Termination \"Normal\"]\n",
      "\n",
      "1. e4 c6 2. Nc3 d5 3. Qf3 dxe4 4. Nxe4 Nd7 5. Bc4 Ngf6 6. Nxf6+ Nxf6 7. Qg3 Bf5 8. d3 Bg6 9. Ne2 e6 10. Bf4 Nh5 11. Qf3 Nxf4 12. Nxf4 Be7 13. Bxe6 fxe6 14. Nxe6 Qa5+ 15. c3 Qe5+ 16. Qe3 Qxe3+ 17. fxe3 Kd7 18. Nf4 Bd6 19. Nxg6 hxg6 20. h3 Bg3+ 21. Kd2 Raf8 22. Rhf1 Ke7 23. d4 Rxf1 24. Rxf1 Rf8 25. Rxf8 Kxf8 26. e4 Ke7 27. Ke3 g5 28. Kf3 Be1 29. Kg4 Bd2 30. Kf5 Bc1 31. Kg6 Kf8 32. e5 Bxb2 33. Kxg5 Bxc3 34. h4 Bxd4 35. h5 Bxe5 36. g4 Bb2 37. Kf5 Kf7 38. g5 Bc1 39. g6+ Ke7 40. Ke5 b5 41. Kd4 Kd6 42. Kc3 c5 43. a3 Bg5 44. a4 bxa4 45. Kb2 Kd5 46. Ka3 Kd4 47. Kxa4 c4 0-1\n",
      "\n",
      "[Event \"Rated Bullet game\"]\n",
      "[Site \"https://lichess.org/1xb3os63\"]\n",
      "[White \"nichiren1967\"]\n",
      "[Black \"Naitero_Nagasaki\"]\n",
      "[Result \"0-1\"]\n",
      "[UTCDate \"2012.12.31\"]\n",
      "[UTCTime \"23:02:37\"]\n",
      "[WhiteElo \"1765\"]\n",
      "[BlackElo \"1815\"]\n",
      "[WhiteRatingDiff \"-9\"]\n",
      "[BlackRatingDiff \"+9\"]\n",
      "[ECO \"C00\"]\n",
      "[Opening \"French Defense: La Bourdonnais Variation\"]\n",
      "[TimeControl \"60+1\"]\n",
      "[Termination \"Normal\"]\n",
      "\n",
      "1. e4 e6 2. f4 d5 3. e5 c5 4. Nf3 Qb6 5. c3 Nc6 6. d3 Bd7 7. Be2 Nh6 8. O-O Nf5 9. g4 Nh6 10. Kg2 Nxg4 11. h3 Nh6 12. Ng5 Nf5 13. Bg4 Nce7 14. Nd2 Ne3+ 15. Kf3 Nxd1 16. Rxd1 h6 17. Nxf7 Kxf7 18. Rf1 h5 19. Bxe6+ Bxe6 20. Kg3 Nf5+ 21. Kg2 Ne3+ 22. Kf2 Nxf1 23. Kxf1 Bxh3+ 0-1\n",
      "\n",
      "[Event \"Rated Blitz game\"]\n",
      "[Site \"https://lichess.org/6x5nq6qd\"]\n",
      "[White \"sport\"]\n",
      "[Black \"shamirbj\"]\n",
      "[Result \"1-0\"]\n",
      "[UTCDate \"2012.12.31\"]\n",
      "[UTCTime \"23:09:21\"]\n",
      "[WhiteElo \"1477\"]\n",
      "[BlackElo \"1487\"]\n",
      "[WhiteRatingDiff \"+12\"]\n",
      "[BlackRatingDiff \"-11\"]\n",
      "[ECO \"B00\"]\n",
      "[Opening \"Owen Defense\"]\n",
      "[TimeControl \"300+3\"]\n",
      "[Termination \"Time forfeit\"]\n",
      "\n",
      "1. e4 b6 2. Bc4 Bb7 3. d3 Nh6 4. Bxh6 gxh6 5. Qf3 e6 6. Nh3 Bg7 7. c3 Nc6 8. Qg3 Rg8 9. Qf3 Ne5 10. Qe3 Nxc4 11. dxc4 Qe7 12. O-O Qc5 13. Qxc5 b5 14. Qxb5 Bxe4 15. Nd2 Bc6 16. Qb3 Bxc3 17. g3 Bxd2 18. Rad1 Bg5 19. Nxg5 hxg5 20. Qd3 h6 21. b4 Ba4 22. Rd2 Rb8 23. b5 d6 24. Qa3 Bxb5 25. cxb5 Rxb5 26. Qxa7 Rc5 27. Qa8+ Ke7 28. Qxg8 e5 29. Qh8 d5 30. Qxe5+ Kd7 31. Rxd5+ Rxd5 32. Qxd5+ 1-0\n",
      "\n",
      "[Event \"Rated Blitz game\"]\n",
      "[Site \"https://lichess.org/fl7asfa0\"]\n",
      "[White \"tiggran\"]\n",
      "[Black \"arion_6\"]\n",
      "[Result \"0-1\"]\n",
      "[UTCDate \"2012.12.31\"]\n",
      "[UTCTime \"23:02:14\"]\n",
      "[WhiteElo \"1541\"]\n",
      "[BlackElo \"1500\"]\n",
      "[WhiteRatingDiff \"-8\"]\n",
      "[BlackRatingDiff \"+196\"]\n",
      "[ECO \"C53\"]\n",
      "[Opening \"Italian Game: Classical Variation, Giuoco Pianissimo\"]\n",
      "[TimeControl \"300+0\"]\n",
      "[Termination \"Normal\"]\n",
      "\n",
      "1. e4 e5 2. Nf3 Nc6 3. Bc4 Nf6 4. d3 Bc5 5. c3 O-O 6. O-O d6 7. Bg5 Na5 8. Bb3 Nxb3 9. Qxb3 Be6 10. Qxb7 Rb8 11. Qa6 Rxb2 12. Nbd2 Rxd2 13. Nxd2 h6 14. Bh4 g5 15. Bg3 h5 16. h3 h4 17. Bh2 Qd7 18. Nf3 Bxh3 19. Nxg5 Qg4 0-1\n",
      "\n",
      "[Event \"Rated Classical game\"]\n",
      "[Site \"https://lichess.org/7b44wxzu\"]\n",
      "[White \"hostking\"]\n",
      "[Black \"troepianiz\"]\n",
      "[Result \"1-0\"]\n",
      "[UTCDate \"2012.12.31\"]\n",
      "[UTCTime \"23:06:10\"]\n",
      "[WhiteElo \"1765\"]\n",
      "[BlackElo \"1752\"]\n",
      "[WhiteRatingDiff \"+10\"]\n",
      "[BlackRatingDiff \"-10\"]\n",
      "[ECO \"C20\"]\n",
      "[Opening \"English Opening: The Whale\"]\n",
      "[TimeControl \"540+0\"]\n",
      "[Termination \"Normal\"]\n",
      "\n",
      "1. e4 e5 2. c4 Bc5 3. Nf3 d6 4. d3 a6 5. a3 Bg4 6. h3 Bxf3 7. Qxf3 Qf6 8. Be2 Nd7 9. Nc3 Ne7 10. O-O Bd4 11. Bd2 h6 12. Rab1 g5 13. Qg4 c6 14. Be3 Ba7 15. Bxa7 Rxa7 16. b4 Qg6 17. Na4 h5 18. Qg3 Nf6 19. Qe3 Ra8 20. Nb6 Rb8 21. c5 d5 22. exd5 Nfxd5 23. Qxe5 Rd8 24. Qxh8+ Ng8 25. Bxh5 Qh6 26. Rbe1+ Ne7 27. Rxe7+ Kxe7 28. Re1+ 1-0\n",
      "\n",
      "[Event \"Rated Classical game\"]\n",
      "[Site \"https://lichess.org/7rzcutsf\"]\n",
      "[White \"manos68\"]\n",
      "[Black \"jtkjtkful\"]\n",
      "[Result \"1-0\"]\n",
      "[UTCDate \"2012.12.31\"]\n",
      "[UTCTime \"23:03:50\"]\n",
      "[WhiteElo \"1445\"]\n",
      "[BlackElo \"1169\"]\n",
      "[WhiteRatingDiff \"+4\"]\n",
      "[BlackRatingDiff \"-15\"]\n",
      "[ECO \"A43\"]\n",
      "[Opening \"Old Benoni Defense\"]\n",
      "[TimeControl \"900+0\"]\n",
      "[Termination \"Normal\"]\n",
      "\n",
      "1. d4 c5 2. c4 d6 3. Bf4 g6 4. Nf3 Bh6 5. Bxh6 Nxh6 6. Nc3 Nf5 7. d5 O-O 8. e4 Nd4 9. Bd3 Bd7 10. O-O a6 11. Ng5 h5 12. Re1 e6 13. dxe6 Nxe6 14. Nxe6 Bxe6 15. Nd5 h4 16. h3 Bxh3 17. gxh3 Qg5+ 18. Kf1 Nd7 19. Qa4 Nf6 20. Ne7+ Kh8 21. f3 Qg3 22. Ke2 Qxh3 23. Rh1 Qg2+ 24. Ke3 h3 25. Qd1 Rae8 26. Bf1 Ng4+ 27. Kd3 Ne5+ 28. Kc3 Qg3 29. Rxh3+ Qxh3 30. Bxh3 Rxe7 31. Qxd6 Nc6 32. Rh1 Rd8 33. Qxc5 a5 34. Bd7+ Kg7 35. Bxc6 Rc7 36. Qe5+ f6 37. Qxc7+ 1-0\n",
      "\n",
      "[Event \"Rated Blitz game\"]\n",
      "[Site \"https://lichess.org/9opx3qh7\"]\n",
      "[White \"adamsrj\"]\n",
      "[Black \"hamiakaz\"]\n",
      "[Result \"0-1\"]\n",
      "[UTCDate \"2012.12.31\"]\n",
      "[UTCTime \"23:02:48\"]\n",
      "[WhiteElo \"1522\"]\n",
      "[BlackElo \"1428\"]\n",
      "[WhiteRatingDiff \"-14\"]\n",
      "[BlackRatingDiff \"+14\"]\n",
      "[ECO \"A40\"]\n",
      "[Opening \"Englund Gambit Complex: Hartlaub-Charlick Gambit\"]\n",
      "[TimeControl \"180+5\"]\n",
      "[Termination \"Normal\"]\n",
      "\n",
      "1. d4 e5 2. dxe5 d6 3. exd6 Bxd6 4. Nf3 Nf6 5. Nc3 O-O 6. a3 Nc6 7. e3 a6 8. Be2 h6 9. O-O Ne5 10. Bd2 Nxf3+ 11. Bxf3 Be5 12. Rc1 c6 13. Qe2 Qd6 14. Rfd1 Bxh2+ 15. Kh1 Be5 16. e4 Bxc3 17. Bxc3 Qe6 18. Rd3 Bd7 19. Rcd1 Rad8 20. Bxf6 gxf6 21. Rd6 Qe7 22. Rd1d2 Be6 23. Rxd8 Rxd8 24. Rxd8+ Qxd8 25. c4 Qd4 26. c5 Qxc5 27. Qd2 f5 28. exf5 Bxf5 29. Qxh6 Bg6 30. Be4 Bxe4 31. Qh4 Bg6 32. Qd8+ Kg7 33. Qc7 b5 34. b4 Qc1+ 35. Kh2 Qxa3 36. Qe5+ Kg8 37. Qe8+ Kg7 38. Qxc6 Qxb4 39. Qxa6 Qh4+ 40. Kg1 b4 41. Qa1+ Qf6 42. Qa4 Qc3 43. f3 b3 44. Qa3 Qc2 45. Kh2 b2 0-1\n",
      "\n",
      "[Event \"Rated Classical game\"]\n",
      "[Site \"https://lichess.org/1hi3aveq\"]\n",
      "[White \"BFG9k\"]\n",
      "[Black \"Sagaz\"]\n",
      "[Result \"0-1\"]\n",
      "[UTCDate \"2012.12.31\"]\n",
      "[UTCTime \"23:07:33\"]\n",
      "[WhiteElo \"1644\"]\n",
      "[BlackElo \"1544\"]\n",
      "[WhiteRatingDiff \"-16\"]\n",
      "[BlackRatingDiff \"+14\"]\n",
      "[ECO \"B06\"]\n",
      "[Opening \"Modern Defense\"]\n",
      "[TimeControl \"600+8\"]\n",
      "[Termination \"Normal\"]\n",
      "\n",
      "1. e4 g6 2. d4 d6 3. Nf3 c6 4. h3 Nf6 5. Bg5 Nxe4 6. Qe2 Bf5 7. Nbd2 Qa5 8. c3 Nxd2 9. Bxd2 Nd7 10. b4 Qa3 11. Ng5 h5 12. Qc4 d5 13. Qe2 Qb2 14. Qd1 Bc2 15. Qc1 Qxc1+ 16. Rxc1 Ba4 17. Bd3 Nb6 18. O-O Nc4 19. Bxc4 dxc4 20. Bf4 Bh6 21. Rfe1 O-O 22. Rxe7 Rae8 23. Rxb7 f6 24. Ne6 Rxe6 25. Bxh6 Rf7 26. Rb8+ Kh7 27. Bf4 g5 28. Bd2 Re2 29. Be1 Rfe7 30. Kf1 Bc2 31. Rc8 Bd3 32. Rxc6 Rc2+ 33. Kg1 Rxc1 34. Rxf6 h4 35. g4 Rexe1+ 36. Kg2 Be4+ 37. f3 Rc2# 0-1\n",
      "\n",
      "[Event \"Rated Classical game\"]\n",
      "[Site \"https://lichess.org/n5crd00d\"]\n",
      "[White \"arion_6\"]\n",
      "[Black \"Naitero_Nagasaki\"]\n",
      "[Result \"0-1\"]\n",
      "[UTCDate \"2012.12.31\"]\n",
      "[UTCTime \"23:09:29\"]\n",
      "[WhiteElo \"1957\"]\n",
      "[BlackElo \"1755\"]\n",
      "[WhiteRatingDiff \"-158\"]\n",
      "[BlackRatingDiff \"+14\"]\n",
      "[ECO \"C13\"]\n",
      "[Opening \"French Defense: Classical Variation, Richter Attack\"]\n",
      "[TimeControl \"300+8\"]\n",
      "[Termination \"Normal\"]\n",
      "\n",
      "1. e4 e6 2. d4 d5 3. Nc3 Nf6 4. Bg5 Be7 5. Bxf6 Bxf6 6. e5 Be7 7. Qg4 O-O 8. Bd3 f5 9. Qg3 c5 10. Nf3 Qb6 11. Na4 Qb4+ 12. Nc3 Qxb2 13. Kd2 cxd4 14. Nxd4 Bb4 15. Bb5 a6 16. Rhb1 Qxc3+ 17. Qxc3 Bxc3+ 18. Kxc3 axb5 19. Rxb5 Nc6 20. Nxc6 bxc6 21. Rc5 Bd7 22. a4 Ra6 23. a5 Rfa8 24. Kd4 g5 25. Ra4 h5 26. h3 f4 27. f3 Kf7 28. Kd3 Ke7 29. Ke2 Be8 30. Kf2 Kd7 31. g3 fxg3+ 32. Kxg3 Bg6 33. Ra2 Bf5 34. h4 g4 35. fxg4 Bxg4 36. Kf4 Rf8+ 37. Kg5 Rf5+ 38. Kh6 Rxe5 39. Ra4 Kd6 40. Rc3 c5 41. Rg3 c4 42. Kg7 Kc5 43. Kf6 Re2 44. Ke7 Rxc2 45. Rxg4 hxg4 46. h5 Rh2 47. Ra3 0-1\n",
      "\n",
      "[Event \"Rated Classical game\"]\n",
      "[Site \"https://lichess.org/iinnkv77\"]\n",
      "[White \"Kozakmamay007\"]\n",
      "[Black \"vadi\"]\n",
      "[Result \"1-0\"]\n",
      "[UTCDate \"2012.12.31\"]\n",
      "[UTCTime \"23:10:03\"]\n",
      "[WhiteElo \"1656\"]\n",
      "[BlackElo \"1812\"]\n",
      "[WhiteRatingDiff \"+16\"]\n",
      "[BlackRatingDiff \"-17\"]\n",
      "[ECO \"C50\"]\n",
      "[Opening \"Giuoco Piano\"]\n",
      "[TimeControl \"420+17\"]\n",
      "[Termination \"Normal\"]\n",
      "\n",
      "1. e4 e5 2. Nf3 Nc6 3. Bc4 Bc5 4. a3 Qf6 5. b4 Bb6 6. d3 h6 7. Nc3 Nge7 8. O-O O-O 9. Re1 a6 10. Be3 Nd4 11. Bxd4 exd4 12. e5 Qg6 13. Ne4 d5 14. exd6 cxd6 15. Bb3 Be6 16. Bxe6 fxe6 17. Nxd6 Rab8 18. Nc4 Ba7 19. Nfe5 Qe8 20. Nd6 Qd8 21. Ndc4 Qd5 22. Qg4 Rf5 23. Ng6 Nxg6 24. Qxg6 Re8 25. Qxe8+ 1-0\n",
      "\n",
      "[Event \"Rated Blitz game\"]\n",
      "[Site \"https://lichess.org/z2ncoii6\"]\n",
      "[White \"Abd0\"]\n",
      "[Black \"Killi\"]\n",
      "[Result \"1-0\"]\n",
      "[UTCDate \"2012.12.31\"]\n",
      "[UTCTime \"23:08:21\"]\n",
      "[WhiteElo \"1436\"]\n",
      "[BlackElo \"1506\"]\n",
      "[WhiteRatingDiff \"+15\"]\n",
      "[BlackRatingDiff \"-14\"]\n",
      "[ECO \"C60\"]\n",
      "[Opening \"Ruy Lopez: Cozio Defense\"]\n",
      "[TimeControl \"420+0\"]\n",
      "[Termination \"Normal\"]\n",
      "\n",
      "1. e4 e5 2. Nf3 Nc6 3. Bb5 Nge7 4. Nc3 h6 5. Nd5 a6 6. Ba4 b5 7. Bb3 Ng6 8. c4 b4 9. Ba4 Nd4 10. O-O c6 11. Ne3 a5 12. Nxd4 exd4 13. Nf5 Ba6 14. Nxd4 Bxc4 15. Nxc6 Bxf1 16. Nxd8 Bxg2 17. Nxf7 Bxe4 18. Qe2 Kxf7 19. Qxe4 Kg8 20. Qxa8 Kh7 21. Qe4 d5 22. Qxd5 Be7 23. d3 Rf8 24. Bb3 Nf4 25. Qe4+ Ng6 26. Be3 Bh4 27. Rf1 Bf6 28. Bd4 Bh4 29. f4 Bd8 30. f5 Ne7 31. f6+ Ng6 32. fxg7 Rxf1+ 33. Kxf1 h5 34. g8=Q+ Kh6 35. Qexg6# 1-0\n",
      "\n",
      "[Event \"Rated Blitz game\"]\n",
      "[Site \"https://\n"
     ]
    }
   ],
   "source": [
    "pgn_file_path = 'lichess_db_standard_rated_2013-01.pgn'\n",
    "\n",
    "# Open the file and print its contents\n",
    "with open(pgn_file_path, 'r') as file:\n",
    "    pgn_content = file.read()\n",
    "print(pgn_content[:10000])"
   ]
  },
  {
   "cell_type": "code",
   "execution_count": null,
   "metadata": {
    "id": "mohyYxpizql2"
   },
   "outputs": [],
   "source": [
    "# Initialize Spark Session\n",
    "spark = SparkSession.builder.appName(\"MLOps_Phase1\").getOrCreate()\n",
    "\n",
    "# Define the schema of the DataFrame\n",
    "schema = StructType([\n",
    "    StructField(\"black_rating\", IntegerType(), True),\n",
    "    StructField(\"white_rating\", IntegerType(), True),\n",
    "    StructField(\"time_control\", StringType(), True),\n",
    "    StructField(\"result\", IntegerType(), True)\n",
    "])"
   ]
  },
  {
   "cell_type": "code",
   "execution_count": null,
   "metadata": {
    "id": "cJpYNgHZr82j"
   },
   "outputs": [],
   "source": [
    "# Function to parse a single game's PGN data\n",
    "def parse_game(game_text):\n",
    "    game_info = {}\n",
    "\n",
    "    # Find Ratings\n",
    "    black_rating_match = re.search(r'\\[BlackElo \"(\\d+)\"\\]', game_text)\n",
    "    white_rating_match = re.search(r'\\[WhiteElo \"(\\d+)\"\\]', game_text)\n",
    "    if black_rating_match and white_rating_match:\n",
    "        game_info['black_rating'] = int(black_rating_match.group(1))\n",
    "        game_info['white_rating'] = int(white_rating_match.group(1))\n",
    "\n",
    "    # Find Time Control\n",
    "    time_control_match = re.search(r'\\[TimeControl \"(\\d+\\+\\d+)\"\\]', game_text)\n",
    "    if time_control_match:\n",
    "        game_info['time_control'] = time_control_match.group(1)\n",
    "\n",
    "    # Find Game Result\n",
    "    result_match = re.search(r'\\[Result \"(.*?)\"\\]', game_text)\n",
    "    if result_match:\n",
    "        result = result_match.group(1)\n",
    "        if result == \"1-0\":\n",
    "            game_info['result'] = 1\n",
    "        elif result == \"0-1\":\n",
    "            game_info['result'] = -1\n",
    "        elif result == \"1/2-1/2\":\n",
    "            game_info['result'] = 0\n",
    "        else:\n",
    "            game_info['result'] = None\n",
    "\n",
    "    return game_info"
   ]
  },
  {
   "cell_type": "code",
   "execution_count": null,
   "metadata": {
    "id": "yYwe-Cdlz6Rj"
   },
   "outputs": [],
   "source": [
    "def process_pgn_file(file_path):\n",
    "    games_data = []\n",
    "    with open(file_path, 'r') as f:\n",
    "        game_text = []\n",
    "        for line in f:\n",
    "            if line.strip() == \"\":\n",
    "                games_data.append(parse_game(\"\\n\".join(game_text)))\n",
    "                game_text = []\n",
    "            else:\n",
    "                game_text.append(line.strip())\n",
    "    if game_text:\n",
    "        games_data.append(parse_game(\"\\n\".join(game_text)))\n",
    "    games_data = [game for game in games_data if game]\n",
    "    return games_data"
   ]
  },
  {
   "cell_type": "code",
   "execution_count": null,
   "metadata": {
    "colab": {
     "base_uri": "https://localhost:8080/"
    },
    "id": "NMAI9U60r7jX",
    "outputId": "61a3c4e6-c5d3-486a-a038-34d88e232d7f"
   },
   "outputs": [
    {
     "name": "stdout",
     "output_type": "stream",
     "text": [
      "Processing file: lichess_db_standard_rated_2013-01.pgn\n",
      "Processing file: lichess_db_standard_rated_2013-02.pgn\n",
      "Processing file: lichess_db_standard_rated_2013-03.pgn\n",
      "Processing file: lichess_db_standard_rated_2013-04.pgn\n",
      "Processing file: lichess_db_standard_rated_2013-05.pgn\n",
      "Processing file: lichess_db_standard_rated_2013-06.pgn\n",
      "Processing file: lichess_db_standard_rated_2013-07.pgn\n",
      "Processing file: lichess_db_standard_rated_2013-08.pgn\n",
      "Processing file: lichess_db_standard_rated_2013-09.pgn\n",
      "Processing file: lichess_db_standard_rated_2013-10.pgn\n",
      "Processing file: lichess_db_standard_rated_2013-11.pgn\n",
      "Processing file: lichess_db_standard_rated_2013-12.pgn\n",
      "+------------+------------+------------+------+\n",
      "|black_rating|white_rating|time_control|result|\n",
      "+------------+------------+------------+------+\n",
      "|        1403|        1639|       600+8|     1|\n",
      "|        1919|        1654|       480+2|     1|\n",
      "|        1747|        1643|      420+17|     1|\n",
      "|        1973|        1824|        60+1|    -1|\n",
      "|        1815|        1765|        60+1|    -1|\n",
      "|        1487|        1477|       300+3|     1|\n",
      "|        1500|        1541|       300+0|    -1|\n",
      "|        1752|        1765|       540+0|     1|\n",
      "|        1169|        1445|       900+0|     1|\n",
      "|        1428|        1522|       180+5|    -1|\n",
      "|        1544|        1644|       600+8|    -1|\n",
      "|        1755|        1957|       300+8|    -1|\n",
      "|        1812|        1656|      420+17|     1|\n",
      "|        1506|        1436|       420+0|     1|\n",
      "|        1940|        1878|       300+0|     0|\n",
      "|        1775|        1742|       540+0|    -1|\n",
      "|        1811|        1824|       360+6|     1|\n",
      "|        1395|        1653|      1200+0|     1|\n",
      "|        1673|        1897|       480+2|     1|\n",
      "|        1451|        1492|       420+0|     1|\n",
      "+------------+------------+------------+------+\n",
      "only showing top 20 rows\n",
      "\n"
     ]
    }
   ],
   "source": [
    "all_games_data = []\n",
    "\n",
    "# Cycling through all the pgn files for each month to combine for 2013\n",
    "for month in range(1, 13):\n",
    "    month_str = f\"{month:02d}\"\n",
    "    file_name = f\"lichess_db_standard_rated_2013-{month_str}.pgn\"\n",
    "    file_path = file_name\n",
    "\n",
    "    # Check if file exists\n",
    "    if os.path.exists(file_path):\n",
    "        print(f\"Processing file: {file_name}\")\n",
    "\n",
    "            # Process the PGN file and extend the list with the new games\n",
    "        game_data = process_pgn_file(file_path)\n",
    "        all_games_data.extend(game_data)\n",
    "    else:\n",
    "        print(f\"File does not exist: {file_name}\")\n",
    "\n",
    "# Create the DataFrame\n",
    "combined_df = spark.createDataFrame(all_games_data, schema)\n",
    "\n",
    "combined_df.show()\n",
    "\n",
    "# Save the combined DataFrame as Parquet file\n",
    "combined_df.write.parquet('processed_chess_data_2013.parquet')"
   ]
  },
  {
   "cell_type": "code",
   "execution_count": null,
   "metadata": {
    "colab": {
     "base_uri": "https://localhost:8080/"
    },
    "id": "8pLniCsy86t9",
    "outputId": "de483f60-a6c6-4272-afd3-0d88dbdd940e"
   },
   "outputs": [
    {
     "name": "stdout",
     "output_type": "stream",
     "text": [
      "Number of rows in the combined DataFrame: 2090230\n"
     ]
    }
   ],
   "source": [
    "number_of_rows = combined_df.count()\n",
    "print(f\"Number of rows in the combined DataFrame: {number_of_rows}\")"
   ]
  },
  {
   "cell_type": "code",
   "execution_count": null,
   "metadata": {
    "colab": {
     "base_uri": "https://localhost:8080/"
    },
    "id": "jIu9_KSF86xG",
    "outputId": "61e36ea2-4ebe-44e2-ef8d-21a140195620"
   },
   "outputs": [
    {
     "name": "stdout",
     "output_type": "stream",
     "text": [
      "root\n",
      " |-- black_rating: integer (nullable = true)\n",
      " |-- white_rating: integer (nullable = true)\n",
      " |-- time_control: string (nullable = true)\n",
      " |-- result: integer (nullable = true)\n",
      "\n"
     ]
    }
   ],
   "source": [
    "combined_df.printSchema()"
   ]
  },
  {
   "cell_type": "code",
   "execution_count": null,
   "metadata": {
    "colab": {
     "base_uri": "https://localhost:8080/"
    },
    "id": "q0Ln3qRt9iJs",
    "outputId": "8bfd988c-f1d0-4b9e-b9f8-502166c934a8"
   },
   "outputs": [
    {
     "name": "stdout",
     "output_type": "stream",
     "text": [
      "Unique values in column black_rating: 1702\n",
      "Unique values in column white_rating: 1691\n",
      "Unique values in column time_control: 860\n",
      "Unique values in column result: 3\n"
     ]
    }
   ],
   "source": [
    "for column in combined_df.columns:\n",
    "    unique_values_count = combined_df.select(column).distinct().count()\n",
    "    print(f\"Unique values in column {column}: {unique_values_count}\")"
   ]
  },
  {
   "cell_type": "code",
   "execution_count": null,
   "metadata": {
    "id": "l0hO_20nq4vy"
   },
   "outputs": [],
   "source": [
    "spark.stop()"
   ]
  },
  {
   "cell_type": "markdown",
   "metadata": {
    "id": "Wi_f35K4CK8B"
   },
   "source": [
    "Downloading the parquet file from colab."
   ]
  },
  {
   "cell_type": "code",
   "execution_count": null,
   "metadata": {
    "colab": {
     "base_uri": "https://localhost:8080/"
    },
    "id": "Qle8s9Pb-2uT",
    "outputId": "0c7486cc-a052-4d80-c692-e51855b9a5ee"
   },
   "outputs": [
    {
     "name": "stdout",
     "output_type": "stream",
     "text": [
      "Mounted at /content/drive\n"
     ]
    }
   ],
   "source": [
    "from google.colab import drive\n",
    "drive.mount('/content/drive')"
   ]
  },
  {
   "cell_type": "code",
   "execution_count": null,
   "metadata": {
    "colab": {
     "base_uri": "https://localhost:8080/"
    },
    "id": "5duhUq2TAMg4",
    "outputId": "cb17a966-c10d-43b6-f65f-c621ae91ee7b"
   },
   "outputs": [
    {
     "name": "stdout",
     "output_type": "stream",
     "text": [
      "  adding: processed_chess_data_2013.parquet/ (stored 0%)\n",
      "  adding: processed_chess_data_2013.parquet/.part-00000-43cb5cd1-b5ce-41b1-9224-b14272ebe848-c000.snappy.parquet.crc (deflated 0%)\n",
      "  adding: processed_chess_data_2013.parquet/part-00000-43cb5cd1-b5ce-41b1-9224-b14272ebe848-c000.snappy.parquet (deflated 9%)\n",
      "  adding: processed_chess_data_2013.parquet/part-00001-43cb5cd1-b5ce-41b1-9224-b14272ebe848-c000.snappy.parquet (deflated 10%)\n",
      "  adding: processed_chess_data_2013.parquet/.part-00001-43cb5cd1-b5ce-41b1-9224-b14272ebe848-c000.snappy.parquet.crc (deflated 0%)\n",
      "  adding: processed_chess_data_2013.parquet/_SUCCESS (stored 0%)\n",
      "  adding: processed_chess_data_2013.parquet/._SUCCESS.crc (stored 0%)\n"
     ]
    }
   ],
   "source": [
    "!zip -r chess_data_2013.zip processed_chess_data_2013.parquet"
   ]
  },
  {
   "cell_type": "code",
   "execution_count": 32,
   "metadata": {
    "colab": {
     "base_uri": "https://localhost:8080/"
    },
    "id": "oPJMSu6sAoym",
    "outputId": "8e173548-a055-4c9e-dada-ceff4e29f989"
   },
   "outputs": [
    {
     "name": "stdout",
     "output_type": "stream",
     "text": [
      "         black_rating  white_rating time_control  result\n",
      "0              1403.0        1639.0        600+8       1\n",
      "1              1919.0        1654.0        480+2       1\n",
      "2              1747.0        1643.0       420+17       1\n",
      "3              1973.0        1824.0         60+1      -1\n",
      "4              1815.0        1765.0         60+1      -1\n",
      "...               ...           ...          ...     ...\n",
      "2090225        1952.0        1894.0         60+0      -1\n",
      "2090226        1609.0        1361.0        300+5      -1\n",
      "2090227        1461.0        1429.0        300+0      -1\n",
      "2090228        2122.0        2048.0        180+4       1\n",
      "2090229        1624.0        1626.0        120+0       1\n",
      "\n",
      "[2090230 rows x 4 columns]\n"
     ]
    }
   ],
   "source": [
    "# Visualizing Results\n",
    "import pandas as pd\n",
    "\n",
    "parquet_file_path = 'processed_chess_data_2013.parquet'\n",
    "df = pd.read_parquet(parquet_file_path)\n",
    "\n",
    "print(df)"
   ]
  },
  {
   "cell_type": "code",
   "execution_count": 34,
   "metadata": {
    "id": "JNUtpXryDTCM"
   },
   "outputs": [],
   "source": [
    "df.to_csv('processed_chess_data_2013_extracted.csv', index=False)"
   ]
  },
  {
   "cell_type": "code",
   "execution_count": null,
   "metadata": {
    "id": "3JYAziBADtOc"
   },
   "outputs": [],
   "source": []
  }
 ],
 "metadata": {
  "colab": {
   "provenance": []
  },
  "kernelspec": {
   "display_name": "Python 3 (ipykernel)",
   "language": "python",
   "name": "python3"
  },
  "language_info": {
   "codemirror_mode": {
    "name": "ipython",
    "version": 3
   },
   "file_extension": ".py",
   "mimetype": "text/x-python",
   "name": "python",
   "nbconvert_exporter": "python",
   "pygments_lexer": "ipython3",
   "version": "3.11.7"
  }
 },
 "nbformat": 4,
 "nbformat_minor": 1
}
